{
  "nbformat": 4,
  "nbformat_minor": 0,
  "metadata": {
    "colab": {
      "provenance": [],
      "include_colab_link": true
    },
    "kernelspec": {
      "name": "python3",
      "display_name": "Python 3"
    },
    "language_info": {
      "name": "python"
    }
  },
  "cells": [
    {
      "cell_type": "markdown",
      "metadata": {
        "id": "view-in-github",
        "colab_type": "text"
      },
      "source": [
        "<a href=\"https://colab.research.google.com/github/liv0018/test/blob/main/Copy_of_Optimization_v1.ipynb\" target=\"_parent\"><img src=\"https://colab.research.google.com/assets/colab-badge.svg\" alt=\"Open In Colab\"/></a>"
      ]
    },
    {
      "cell_type": "markdown",
      "source": [],
      "metadata": {
        "id": "mhcsG3Ne_PoR"
      }
    },
    {
      "cell_type": "code",
      "source": [
        "from google.colab import drive\n",
        "drive.mount('/content/drive')"
      ],
      "metadata": {
        "colab": {
          "base_uri": "https://localhost:8080/"
        },
        "id": "bFMiA_lvM2rl",
        "outputId": "617653a5-a524-4eb1-bf02-b22e625d6a15"
      },
      "execution_count": null,
      "outputs": [
        {
          "output_type": "stream",
          "name": "stdout",
          "text": [
            "Mounted at /content/drive\n"
          ]
        }
      ]
    },
    {
      "cell_type": "code",
      "source": [
        "import numpy as np\n",
        "import matplotlib.pyplot as plt\n",
        "from tensorflow import keras as keras\n",
        "from tensorflow.keras.layers import Dense,Dropout,Conv2D,Flatten,MaxPooling2D,Activation,BatchNormalization, Input\n",
        "import tensorflow as tf\n",
        "from matplotlib.patches import Ellipse\n",
        "import math\n",
        "import scipy\n"
      ],
      "metadata": {
        "id": "rIz3Rx_2254v"
      },
      "execution_count": null,
      "outputs": []
    },
    {
      "cell_type": "code",
      "source": [
        "%matplotlib inline"
      ],
      "metadata": {
        "id": "hTCrabR827yo"
      },
      "execution_count": null,
      "outputs": []
    },
    {
      "cell_type": "code",
      "source": [
        "# hi this is test\n",
        "dim=6 #Number of rotators\n",
        "freq_min=2000 #Starting Frequency\n",
        "freq_max=7000 #Final frequency\n",
        "freq_step=100 #Frequency step\n",
        "freq_points=(freq_max-freq_min)//freq_step+1\n",
        "freq=np.linspace(freq_min, freq_max, freq_points) #list of frequencies"
      ],
      "metadata": {
        "id": "9Wzuw3nE3xZK"
      },
      "execution_count": null,
      "outputs": []
    },
    {
      "cell_type": "code",
      "source": [],
      "metadata": {
        "id": "nc9_xpforu0K"
      },
      "execution_count": null,
      "outputs": []
    },
    {
      "cell_type": "code",
      "source": [
        "#FORWARD MODEL ONE FREQ\n",
        "model=tf.keras.Sequential()\n",
        "model.add(Dense(units=50, input_shape=(dim,)))\n",
        "model.add(Dense(50, activation=\"relu\", kernel_initializer=\"he_normal\"))\n",
        "model.add(Dense(20, activation=\"relu\", kernel_initializer=\"he_normal\"))\n",
        "model.add(Dense(1))\n",
        "model.add(Activation('linear'))\n",
        "optimizer=keras.optimizers.Adam(learning_rate=0.001)\n",
        "model.compile(optimizer=optimizer, loss='mse')"
      ],
      "metadata": {
        "id": "Lla3Ax1W3xwa"
      },
      "execution_count": null,
      "outputs": []
    },
    {
      "cell_type": "code",
      "source": [
        "model.load_weights(\"/content/drive/MyDrive/Optimization/virtual_oneoutput_4000Hz_v1.h5\")\n"
      ],
      "metadata": {
        "id": "XUavJsk03z9B"
      },
      "execution_count": null,
      "outputs": []
    },
    {
      "cell_type": "code",
      "source": [
        "model.summary()"
      ],
      "metadata": {
        "id": "VebGEXq-32Hy",
        "colab": {
          "base_uri": "https://localhost:8080/"
        },
        "outputId": "5033a6e1-19fb-4407-f0f9-b71263de4d0b"
      },
      "execution_count": null,
      "outputs": [
        {
          "output_type": "stream",
          "name": "stdout",
          "text": [
            "Model: \"sequential\"\n",
            "_________________________________________________________________\n",
            " Layer (type)                Output Shape              Param #   \n",
            "=================================================================\n",
            " dense (Dense)               (None, 50)                350       \n",
            "                                                                 \n",
            " dense_1 (Dense)             (None, 50)                2550      \n",
            "                                                                 \n",
            " dense_2 (Dense)             (None, 20)                1020      \n",
            "                                                                 \n",
            " dense_3 (Dense)             (None, 1)                 21        \n",
            "                                                                 \n",
            " activation (Activation)     (None, 1)                 0         \n",
            "                                                                 \n",
            "=================================================================\n",
            "Total params: 3,941\n",
            "Trainable params: 3,941\n",
            "Non-trainable params: 0\n",
            "_________________________________________________________________\n"
          ]
        }
      ]
    },
    {
      "cell_type": "code",
      "source": [
        "#FORWARD MODEL Spectra\n",
        "model2=tf.keras.Sequential()\n",
        "model2.add(Dense(units=50, input_shape=(dim,)))\n",
        "model2.add(Dense(50, activation=\"relu\", kernel_initializer=\"he_normal\"))\n",
        "model2.add(Dense(20, activation=\"relu\", kernel_initializer=\"he_normal\"))\n",
        "model2.add(Dense(freq_points))\n",
        "model2.add(Activation('linear'))\n",
        "optimizer2=keras.optimizers.Adam(learning_rate=0.001)\n",
        "model2.compile(optimizer=optimizer2, loss='mse')\n"
      ],
      "metadata": {
        "id": "UelxiguvTozz"
      },
      "execution_count": null,
      "outputs": []
    },
    {
      "cell_type": "code",
      "source": [
        "model2.load_weights(\"/content/drive/MyDrive/Optimization/virtual_rangeoutput_v1.h5\")"
      ],
      "metadata": {
        "id": "mT2n-RkcTu-V"
      },
      "execution_count": null,
      "outputs": []
    },
    {
      "cell_type": "code",
      "source": [
        "#Functions to calculate transmission value/spectra for the desired position of the rotators\n",
        "#with the help of pre-trained NNs\n",
        "def acoustic1freq(rot, model):\n",
        "  res=model.predict(rot.reshape(1,-1))\n",
        "  #res=model.predict(rot)\n",
        "  res2=res[0][0]\n",
        "  return res2\n",
        "\n",
        "def acousticRange(rot, model):\n",
        "  res=model2.predict(rot.reshape(1,-1))\n",
        "  res2=res[0]\n",
        "  return res2\n"
      ],
      "metadata": {
        "id": "zRHAXgSHTvBi"
      },
      "execution_count": null,
      "outputs": []
    },
    {
      "cell_type": "code",
      "source": [
        "rot_position=np.array([80,10,150,100,20,50]) #Note that you should use numpy array and not the list\n",
        "one_val=acoustic1freq(rot_position, model=model)\n",
        "spectra=acousticRange(rot_position, model=model2)\n",
        "print (one_val)\n",
        "print (spectra)\n",
        "print (freq)"
      ],
      "metadata": {
        "id": "A6oZky1MTvE8",
        "outputId": "349d0b35-7a57-4da9-b89d-0ef320b8c877",
        "colab": {
          "base_uri": "https://localhost:8080/"
        }
      },
      "execution_count": null,
      "outputs": [
        {
          "output_type": "stream",
          "name": "stdout",
          "text": [
            "1/1 [==============================] - 0s 288ms/step\n",
            "1/1 [==============================] - 0s 67ms/step\n",
            "-41.11849\n",
            "[-10.796106  -12.012078  -11.587646  -10.579832   -8.926845   -8.59457\n",
            "  -9.579542  -10.734338  -12.203661  -14.656226  -18.89404   -23.934118\n",
            " -28.391462  -32.297596  -35.51672   -37.910313  -39.689148  -40.956676\n",
            " -41.781345  -42.19101   -42.19284   -41.791176  -40.94821   -39.64075\n",
            " -37.79973   -35.314594  -31.987896  -27.378222  -20.278088  -12.5715685\n",
            " -10.348356  -11.677015  -11.607809  -14.136066  -17.941679  -20.45584\n",
            " -21.335205  -20.44674   -17.915833  -13.623911  -10.538169  -11.322546\n",
            " -13.644547  -15.98518   -17.65996   -18.17949   -18.138397  -17.403553\n",
            " -16.414366  -15.268795  -13.967418 ]\n",
            "[2000. 2100. 2200. 2300. 2400. 2500. 2600. 2700. 2800. 2900. 3000. 3100.\n",
            " 3200. 3300. 3400. 3500. 3600. 3700. 3800. 3900. 4000. 4100. 4200. 4300.\n",
            " 4400. 4500. 4600. 4700. 4800. 4900. 5000. 5100. 5200. 5300. 5400. 5500.\n",
            " 5600. 5700. 5800. 5900. 6000. 6100. 6200. 6300. 6400. 6500. 6600. 6700.\n",
            " 6800. 6900. 7000.]\n"
          ]
        }
      ]
    },
    {
      "cell_type": "code",
      "source": [
        "#Example of drawing\n",
        "fig = plt.figure()\n",
        "ax1 = fig.add_subplot(111)\n",
        "ax1.set_xlabel('Amplitude')\n",
        "ax1.set_ylabel('Frequency')\n",
        "ax1.set_title('Transmission spectra')\n",
        "#ax1.set_title('Whole normal dist')\n",
        "ax1.plot(spectra, freq)"
      ],
      "metadata": {
        "colab": {
          "base_uri": "https://localhost:8080/",
          "height": 312
        },
        "id": "Bo8oNu7ZUOrf",
        "outputId": "51b2f601-5363-46e8-ad86-bbc7504ae84d"
      },
      "execution_count": null,
      "outputs": [
        {
          "output_type": "execute_result",
          "data": {
            "text/plain": [
              "[<matplotlib.lines.Line2D at 0x7fba769fec50>]"
            ]
          },
          "metadata": {},
          "execution_count": 12
        },
        {
          "output_type": "display_data",
          "data": {
            "text/plain": [
              "<Figure size 432x288 with 1 Axes>"
            ],
            "image/png": "[encoded data removed]"
          },
          "metadata": {
            "needs_background": "light"
          }
        }
      ]
    },
    {
      "cell_type": "code",
      "source": [
        "#Functions to draw the position of rotators\n",
        "def setupconfig():\n",
        "  fig_el2 = plt.figure()\n",
        "  ax1_el2 = fig_el2.add_subplot(211)\n",
        "  #ax2 = fig.add_subplot(212)\n",
        "  ax1_el2.set_xlim(0,35)\n",
        "  ax1_el2.set_ylim(-2.5,2.5)\n",
        "  ax1_el2.set_aspect('equal')\n",
        "  #ax2.set_xlim(0,35)\n",
        "  #ax2.set_ylim(-2.5,2.5)\n",
        "  #ax2.set_aspect('equal')\n",
        "  ells2 = [Ellipse(xy=((i+1)*5,0), width=4, height=1, angle=0)\n",
        "          for i in range(6)]\n",
        "  for e in ells2:\n",
        "    ax1_el2.add_artist(e)\n",
        "  return ells2, fig_el2, ax1_el2\n",
        "\n",
        "def showconfig(rot,ells2, fig_in, ax_in):\n",
        "  #fig_out=fig_in\n",
        "  for i in range(len(ells2)):\n",
        "    ells2[i].angle=rot[i]\n",
        "  fig_in.canvas.draw()\n",
        "  fig_in.canvas.flush_events()\n",
        "  #display(fig_in)\n",
        "\n",
        "def showconfigMain(rot):\n",
        "  ells_in, fig_in, ax_in=setupconfig()\n",
        "  showconfig(rot,ells_in, fig_in, ax_in)\n"
      ],
      "metadata": {
        "id": "yUVgmUYqUZT3"
      },
      "execution_count": null,
      "outputs": []
    },
    {
      "cell_type": "code",
      "source": [
        "#Example of position drawing\n",
        "showconfigMain(rot_position)"
      ],
      "metadata": {
        "colab": {
          "base_uri": "https://localhost:8080/",
          "height": 100
        },
        "id": "VZpBDOWrUZbJ",
        "outputId": "ff291e26-8e20-4615-d77b-4ca1edc1facf"
      },
      "execution_count": null,
      "outputs": [
        {
          "output_type": "display_data",
          "data": {
            "text/plain": [
              "<Figure size 432x288 with 1 Axes>"
            ],
            "image/png": "[encoded data removed]"
          },
          "metadata": {
            "needs_background": "light"
          }
        }
      ]
    },
    {
      "cell_type": "code",
      "source": [
        "rot_position\n"
      ],
      "metadata": {
        "colab": {
          "base_uri": "https://localhost:8080/"
        },
        "id": "oMOeTWnQUZjB",
        "outputId": "88762704-c2c0-4c70-f53c-ddea64aa6fbc"
      },
      "execution_count": null,
      "outputs": [
        {
          "output_type": "execute_result",
          "data": {
            "text/plain": [
              "array([ 80,  10, 150, 100,  20,  50])"
            ]
          },
          "metadata": {},
          "execution_count": 15
        }
      ]
    },
    {
      "cell_type": "code",
      "source": [
        "import sys\n",
        "sys.path.insert(0,'/content/drive/MyDrive/tst.py')"
      ],
      "metadata": {
        "id": "c-PEclvkW7-l"
      },
      "execution_count": null,
      "outputs": []
    },
    {
      "cell_type": "code",
      "source": [
        "\n",
        "import tst\n"
      ],
      "metadata": {
        "id": "guin1TLDRrFc"
      },
      "execution_count": null,
      "outputs": []
    },
    {
      "cell_type": "code",
      "source": [],
      "metadata": {
        "id": "QZKTQ5mURCl8"
      },
      "execution_count": null,
      "outputs": []
    }
  ]
}